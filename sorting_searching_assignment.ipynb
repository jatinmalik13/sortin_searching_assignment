{
 "cells": [
  {
   "cell_type": "code",
   "execution_count": 1,
   "id": "0ad982ec-91e6-4c4c-8470-44c76d5119c0",
   "metadata": {},
   "outputs": [
    {
     "name": "stdout",
     "output_type": "stream",
     "text": [
      "Intersection: [5]\n"
     ]
    }
   ],
   "source": [
    "''''Intersection of Two Sorted Arrays\n",
    "Write a Python program to find the intersection of two sorted arrays.\n",
    "Input:\n",
    "A = [1, 3, 5, 7, 9]\n",
    "B = [2, 4, 5, 8]\n",
    "Output:\n",
    "Intersection: [5]'''\n",
    "\n",
    "# ans\n",
    "\n",
    "def intersection_sorted_arrays(A, B):\n",
    "    \n",
    "    i, j = 0, 0\n",
    "    intersection = []\n",
    "\n",
    "   \n",
    "    while i < len(A) and j < len(B):\n",
    "        if A[i] < B[j]:\n",
    "          \n",
    "            i += 1\n",
    "        elif A[i] > B[j]:\n",
    "          \n",
    "            j += 1\n",
    "        else:\n",
    "           \n",
    "            intersection.append(A[i])\n",
    "            i += 1\n",
    "            j += 1\n",
    "\n",
    "    return intersection\n",
    "\n",
    "\n",
    "A = [1, 3, 5, 7, 9]\n",
    "B = [2, 4, 5, 8]\n",
    "\n",
    "\n",
    "result = intersection_sorted_arrays(A, B)\n",
    "\n",
    "print(\"Intersection:\", result)\n"
   ]
  },
  {
   "cell_type": "code",
   "execution_count": 2,
   "id": "ba4925a6-cc42-4bc3-afd2-99bc3854c288",
   "metadata": {},
   "outputs": [
    {
     "name": "stdout",
     "output_type": "stream",
     "text": [
      "The 3rd smallest element is 7\n"
     ]
    }
   ],
   "source": [
    "'''Find the Kth Smallest Element\n",
    "Write a Python function to find the kth smallest element in an unsorted list.\n",
    "Input:\n",
    "[12, 3, 1, 7, 8, 20], k = 3\n",
    "Output:\n",
    "The 3rd smallest element is 7'''\n",
    "# ans \n",
    "\n",
    "def kth_smallest_element(arr, k):\n",
    "    # Sort the array\n",
    "    sorted_arr = sorted(arr)\n",
    "    \n",
    "    return sorted_arr[k - 1]\n",
    "\n",
    "\n",
    "arr = [12, 3, 1, 7, 8, 20]\n",
    "k = 3\n",
    "\n",
    "\n",
    "result = kth_smallest_element(arr, k)\n",
    "\n",
    "print(f\"The {k}rd smallest element is {result}\")\n"
   ]
  },
  {
   "cell_type": "code",
   "execution_count": 3,
   "id": "5b9e07f5-d52b-49b6-9ff2-0a69a59bbee9",
   "metadata": {},
   "outputs": [
    {
     "name": "stdout",
     "output_type": "stream",
     "text": [
      "Element 6 found at index 2\n"
     ]
    }
   ],
   "source": [
    "''' Binary Search in a Rotated Sorted Array\n",
    "Implement a Python program to perform a binary search on a rotated sorted array.\n",
    "Input:\n",
    "[4, 5, 6, 7, 8, 9, 1, 2, 3], 6\n",
    "Output:\n",
    "Element 6 found at index 2'''\n",
    "\n",
    "# ans \n",
    "\n",
    "def binary_search_rotated(arr, target):\n",
    "    left, right = 0, len(arr) - 1\n",
    "\n",
    "    while left <= right:\n",
    "        mid = (left + right) // 2\n",
    "\n",
    "        if arr[mid] == target:\n",
    "            return mid\n",
    "\n",
    "       \n",
    "        if arr[left] <= arr[mid]: \n",
    "            if arr[left] <= target < arr[mid]:  \n",
    "                right = mid - 1\n",
    "            else:  \n",
    "                left = mid + 1\n",
    "        else:  \n",
    "            if arr[mid] < target <= arr[right]:  \n",
    "                left = mid + 1\n",
    "            else:  \n",
    "                right = mid - 1\n",
    "\n",
    "    return -1  \n",
    "\n",
    "\n",
    "arr = [4, 5, 6, 7, 8, 9, 1, 2, 3]\n",
    "target = 6\n",
    "\n",
    "\n",
    "index = binary_search_rotated(arr, target)\n",
    "\n",
    "if index != -1:\n",
    "    print(f\"Element {target} found at index {index}\")\n",
    "else:\n",
    "    print(f\"Element {target} not found\")\n"
   ]
  },
  {
   "cell_type": "code",
   "execution_count": 4,
   "id": "a9e5e743-8d4f-441e-be3e-d8b7f28bdbcd",
   "metadata": {},
   "outputs": [
    {
     "name": "stdout",
     "output_type": "stream",
     "text": [
      "Element 11 found at position (1, 2)\n"
     ]
    }
   ],
   "source": [
    "'''Write a Python program that searches for a given element in a 2D matrix and returns its position.\n",
    "Input:\n",
    "Matrix = [\n",
    "[1, 3, 5],\n",
    "[7, 9, 11],\n",
    "[13, 15, 17]\n",
    "]\n",
    "Element = 11'''\n",
    "\n",
    "# ans \n",
    "\n",
    "def search_matrix(matrix, target):\n",
    "   \n",
    "    rows = len(matrix)\n",
    "    cols = len(matrix[0]) if rows > 0 else 0\n",
    "\n",
    "   \n",
    "    for i in range(rows):\n",
    "        for j in range(cols):\n",
    "            if matrix[i][j] == target:\n",
    "                return (i, j)  \n",
    "\n",
    "    return (-1, -1)  \n",
    "\n",
    "\n",
    "matrix = [\n",
    "    [1, 3, 5],\n",
    "    [7, 9, 11],\n",
    "    [13, 15, 17]\n",
    "]\n",
    "target = 11\n",
    "\n",
    "\n",
    "position = search_matrix(matrix, target)\n",
    "\n",
    "if position != (-1, -1):\n",
    "    print(f\"Element {target} found at position {position}\")\n",
    "else:\n",
    "    print(f\"Element {target} not found\")\n"
   ]
  },
  {
   "cell_type": "code",
   "execution_count": 5,
   "id": "cc9ac56c-b76b-4f59-b265-3f265948d291",
   "metadata": {},
   "outputs": [
    {
     "name": "stdout",
     "output_type": "stream",
     "text": [
      "['kiwi', 'apple', 'grape', 'banana', 'orange']\n"
     ]
    }
   ],
   "source": [
    "'''Sorting Strings by Length\n",
    "Write a Python program that takes a list of strings and sorts them based on their length.\n",
    "Input:\n",
    "['apple', 'banana', 'kiwi', 'orange', 'grape']\n",
    "Output:\n",
    "['kiwi', 'grape', 'apple', 'banana', 'orange']'''\n",
    "\n",
    "# ans \n",
    "\n",
    "def sort_by_length(strings):\n",
    "    \n",
    "    return sorted(strings, key=len)\n",
    "\n",
    "\n",
    "strings = ['apple', 'banana', 'kiwi', 'orange', 'grape']\n",
    "\n",
    "sorted_strings = sort_by_length(strings)\n",
    "\n",
    "print(sorted_strings)\n"
   ]
  },
  {
   "cell_type": "code",
   "execution_count": 6,
   "id": "a845b8a1-a1bc-4187-82d2-4ab4556026d8",
   "metadata": {},
   "outputs": [
    {
     "name": "stdout",
     "output_type": "stream",
     "text": [
      "Peak element is 20\n"
     ]
    }
   ],
   "source": [
    "\n",
    "\n",
    "'''Implement a Python function to find a peak element in an array. A peak element is an element that is greater\n",
    "than or equal to its neighbors.\n",
    "Input:\n",
    "[1, 3, 20, 4, 1, 0]'''\n",
    "\n",
    "# ans\n",
    "\n",
    "def find_peak_element(arr):\n",
    "    n = len(arr)\n",
    "    \n",
    "    if n == 0:\n",
    "        return None\n",
    "    if n == 1:\n",
    "        return arr[0]  \n",
    "\n",
    "\n",
    "    if arr[0] >= arr[1]:\n",
    "        return arr[0]\n",
    "\n",
    "  \n",
    "    if arr[n - 1] >= arr[n - 2]:\n",
    "        return arr[n - 1]\n",
    "\n",
    "   \n",
    "    for i in range(1, n - 1):\n",
    "        if arr[i] >= arr[i - 1] and arr[i] >= arr[i + 1]:\n",
    "            return arr[i]\n",
    "\n",
    "    return None  \n",
    "\n",
    "\n",
    "arr = [1, 3, 20, 4, 1, 0]\n",
    "\n",
    "\n",
    "peak = find_peak_element(arr)\n",
    "\n",
    "if peak is not None:\n",
    "    print(f\"Peak element is {peak}\")\n",
    "else:\n",
    "    print(\"No peak element found\")\n"
   ]
  },
  {
   "cell_type": "code",
   "execution_count": null,
   "id": "f9a10862-a4e2-40cb-96b0-73e14e7cb3ea",
   "metadata": {},
   "outputs": [],
   "source": [
    "'''Search in a Nearly Sorted Array\n",
    "Implement a Python program to perform a binary search in a nearly sorted array. In a nearly sorted array, each\n",
    "element is at most k positions away from its sorted position.\n",
    "Input:\n",
    "[2, 1, 3, 4, 6, 5, 7], k ='''\n",
    "\n",
    "# ans \n",
    "\n",
    "def binary_search_nearly_sorted(arr, target, k):\n",
    "    n = len(arr)\n",
    "    low = 0\n",
    "    high = n - 1\n",
    "    \n",
    "    while low <= high:\n",
    "        mid = (low + high) // 2\n",
    "        \n",
    "    \n",
    "        start = max(mid - k, 0)\n",
    "        end = min(mid + k, n - 1)\n",
    "        \n",
    "        for i in range(start, end + 1):\n",
    "            if arr[i] == target:\n",
    "                return i\n",
    "        \n",
    "        \n",
    "        if arr[mid] < target:\n",
    "            low = mid + 1\n",
    "        else:\n",
    "            high = mid - 1\n",
    "    \n",
    "    return -1  \n",
    "\n",
    "\n",
    "arr = [2, 1, 3, 4, 6, 5, 7]\n",
    "target = 5\n",
    "k = 2\n",
    "\n",
    "\n",
    "index = binary_search_nearly_sorted(arr, target, k)\n",
    "\n",
    "if index != -1:\n",
    "    print(f\"Element {target} found at index {index}\")\n",
    "else:\n",
    "    print(f\"Element {target} not found\")\n"
   ]
  }
 ],
 "metadata": {
  "kernelspec": {
   "display_name": "Python 3 (ipykernel)",
   "language": "python",
   "name": "python3"
  },
  "language_info": {
   "codemirror_mode": {
    "name": "ipython",
    "version": 3
   },
   "file_extension": ".py",
   "mimetype": "text/x-python",
   "name": "python",
   "nbconvert_exporter": "python",
   "pygments_lexer": "ipython3",
   "version": "3.12.0"
  }
 },
 "nbformat": 4,
 "nbformat_minor": 5
}
